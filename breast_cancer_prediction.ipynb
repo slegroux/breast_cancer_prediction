{
 "cells": [
  {
   "cell_type": "markdown",
   "metadata": {},
   "source": [
    "# Part 1"
   ]
  },
  {
   "cell_type": "markdown",
   "metadata": {},
   "source": [
    "## Download"
   ]
  },
  {
   "cell_type": "code",
   "execution_count": 3,
   "metadata": {},
   "outputs": [
    {
     "name": "stdout",
     "output_type": "stream",
     "text": [
      "Cloning into 'data'...\n",
      "remote: Counting objects: 7, done.\u001b[K\n",
      "remote: Total 7 (delta 0), reused 0 (delta 0), pack-reused 7\u001b[K\n",
      "Unpacking objects: 100% (7/7), done.\n",
      "\u001b[1m\u001b[34mdata\u001b[m\u001b[m                         data_science_immersive.ipynb\n"
     ]
    }
   ],
   "source": [
    "!git clone https://gist.github.com/jeff-boykin/b5c536467c30d66ab97cd1f5c9a3497d data"
   ]
  },
  {
   "cell_type": "code",
   "execution_count": 4,
   "metadata": {},
   "outputs": [
    {
     "name": "stdout",
     "output_type": "stream",
     "text": [
      "breast-cancer.csv field_names.txt\r\n"
     ]
    }
   ],
   "source": [
    "!ls data"
   ]
  },
  {
   "cell_type": "markdown",
   "metadata": {},
   "source": [
    "## Data set"
   ]
  },
  {
   "cell_type": "markdown",
   "metadata": {},
   "source": [
    "Depending on the type of analysis or task at hand we might want to normalize and transform the data to make it more gaussian"
   ]
  },
  {
   "cell_type": "code",
   "execution_count": 35,
   "metadata": {
    "collapsed": true
   },
   "outputs": [],
   "source": [
    "import pandas as pd\n",
    "import numpy as np\n",
    "from matplotlib import pyplot as plt\n",
    "import seaborn\n",
    "from pandasql import *\n",
    "%matplotlib inline"
   ]
  },
  {
   "cell_type": "markdown",
   "metadata": {},
   "source": [
    "#### Add headers to the dataframe"
   ]
  },
  {
   "cell_type": "code",
   "execution_count": 183,
   "metadata": {},
   "outputs": [
    {
     "name": "stdout",
     "output_type": "stream",
     "text": [
      "['ID' 'diagnosis' 'radius_mean' 'radius_sd_error' 'radius_worst'\n",
      " 'texture_mean' 'texture_sd_error' 'texture_worst' 'perimeter_mean'\n",
      " 'perimeter_sd_error' 'perimeter_worst' 'area_mean' 'area_sd_error'\n",
      " 'area_worst' 'smoothness_mean' 'smoothness_sd_error' 'smoothness_worst'\n",
      " 'compactness_mean' 'compactness_sd_error' 'compactness_worst'\n",
      " 'concavity_mean' 'concavity_sd_error' 'concavity_worst'\n",
      " 'concave_points_mean' 'concave_points_sd_error' 'concave_points_worst'\n",
      " 'symmetry_mean' 'symmetry_sd_error' 'symmetry_worst'\n",
      " 'fractal_dimension_mean' 'fractal_dimension_sd_error'\n",
      " 'fractal_dimension_worst']\n"
     ]
    },
    {
     "data": {
      "text/html": [
       "<div>\n",
       "<table border=\"1\" class=\"dataframe\">\n",
       "  <thead>\n",
       "    <tr style=\"text-align: right;\">\n",
       "      <th></th>\n",
       "      <th>diagnosis</th>\n",
       "      <th>radius_mean</th>\n",
       "      <th>radius_sd_error</th>\n",
       "      <th>radius_worst</th>\n",
       "      <th>texture_mean</th>\n",
       "      <th>texture_sd_error</th>\n",
       "      <th>texture_worst</th>\n",
       "      <th>perimeter_mean</th>\n",
       "      <th>perimeter_sd_error</th>\n",
       "      <th>perimeter_worst</th>\n",
       "      <th>...</th>\n",
       "      <th>concavity_worst</th>\n",
       "      <th>concave_points_mean</th>\n",
       "      <th>concave_points_sd_error</th>\n",
       "      <th>concave_points_worst</th>\n",
       "      <th>symmetry_mean</th>\n",
       "      <th>symmetry_sd_error</th>\n",
       "      <th>symmetry_worst</th>\n",
       "      <th>fractal_dimension_mean</th>\n",
       "      <th>fractal_dimension_sd_error</th>\n",
       "      <th>fractal_dimension_worst</th>\n",
       "    </tr>\n",
       "    <tr>\n",
       "      <th>ID</th>\n",
       "      <th></th>\n",
       "      <th></th>\n",
       "      <th></th>\n",
       "      <th></th>\n",
       "      <th></th>\n",
       "      <th></th>\n",
       "      <th></th>\n",
       "      <th></th>\n",
       "      <th></th>\n",
       "      <th></th>\n",
       "      <th></th>\n",
       "      <th></th>\n",
       "      <th></th>\n",
       "      <th></th>\n",
       "      <th></th>\n",
       "      <th></th>\n",
       "      <th></th>\n",
       "      <th></th>\n",
       "      <th></th>\n",
       "      <th></th>\n",
       "      <th></th>\n",
       "    </tr>\n",
       "  </thead>\n",
       "  <tbody>\n",
       "    <tr>\n",
       "      <th>842302</th>\n",
       "      <td>M</td>\n",
       "      <td>17.99</td>\n",
       "      <td>10.38</td>\n",
       "      <td>122.80</td>\n",
       "      <td>1001.0</td>\n",
       "      <td>0.11840</td>\n",
       "      <td>0.27760</td>\n",
       "      <td>0.3001</td>\n",
       "      <td>0.14710</td>\n",
       "      <td>0.2419</td>\n",
       "      <td>...</td>\n",
       "      <td>25.38</td>\n",
       "      <td>17.33</td>\n",
       "      <td>184.60</td>\n",
       "      <td>2019.0</td>\n",
       "      <td>0.1622</td>\n",
       "      <td>0.6656</td>\n",
       "      <td>0.7119</td>\n",
       "      <td>0.2654</td>\n",
       "      <td>0.4601</td>\n",
       "      <td>0.11890</td>\n",
       "    </tr>\n",
       "    <tr>\n",
       "      <th>842517</th>\n",
       "      <td>M</td>\n",
       "      <td>20.57</td>\n",
       "      <td>17.77</td>\n",
       "      <td>132.90</td>\n",
       "      <td>1326.0</td>\n",
       "      <td>0.08474</td>\n",
       "      <td>0.07864</td>\n",
       "      <td>0.0869</td>\n",
       "      <td>0.07017</td>\n",
       "      <td>0.1812</td>\n",
       "      <td>...</td>\n",
       "      <td>24.99</td>\n",
       "      <td>23.41</td>\n",
       "      <td>158.80</td>\n",
       "      <td>1956.0</td>\n",
       "      <td>0.1238</td>\n",
       "      <td>0.1866</td>\n",
       "      <td>0.2416</td>\n",
       "      <td>0.1860</td>\n",
       "      <td>0.2750</td>\n",
       "      <td>0.08902</td>\n",
       "    </tr>\n",
       "    <tr>\n",
       "      <th>84300903</th>\n",
       "      <td>M</td>\n",
       "      <td>19.69</td>\n",
       "      <td>21.25</td>\n",
       "      <td>130.00</td>\n",
       "      <td>1203.0</td>\n",
       "      <td>0.10960</td>\n",
       "      <td>0.15990</td>\n",
       "      <td>0.1974</td>\n",
       "      <td>0.12790</td>\n",
       "      <td>0.2069</td>\n",
       "      <td>...</td>\n",
       "      <td>23.57</td>\n",
       "      <td>25.53</td>\n",
       "      <td>152.50</td>\n",
       "      <td>1709.0</td>\n",
       "      <td>0.1444</td>\n",
       "      <td>0.4245</td>\n",
       "      <td>0.4504</td>\n",
       "      <td>0.2430</td>\n",
       "      <td>0.3613</td>\n",
       "      <td>0.08758</td>\n",
       "    </tr>\n",
       "    <tr>\n",
       "      <th>84348301</th>\n",
       "      <td>M</td>\n",
       "      <td>11.42</td>\n",
       "      <td>20.38</td>\n",
       "      <td>77.58</td>\n",
       "      <td>386.1</td>\n",
       "      <td>0.14250</td>\n",
       "      <td>0.28390</td>\n",
       "      <td>0.2414</td>\n",
       "      <td>0.10520</td>\n",
       "      <td>0.2597</td>\n",
       "      <td>...</td>\n",
       "      <td>14.91</td>\n",
       "      <td>26.50</td>\n",
       "      <td>98.87</td>\n",
       "      <td>567.7</td>\n",
       "      <td>0.2098</td>\n",
       "      <td>0.8663</td>\n",
       "      <td>0.6869</td>\n",
       "      <td>0.2575</td>\n",
       "      <td>0.6638</td>\n",
       "      <td>0.17300</td>\n",
       "    </tr>\n",
       "    <tr>\n",
       "      <th>84358402</th>\n",
       "      <td>M</td>\n",
       "      <td>20.29</td>\n",
       "      <td>14.34</td>\n",
       "      <td>135.10</td>\n",
       "      <td>1297.0</td>\n",
       "      <td>0.10030</td>\n",
       "      <td>0.13280</td>\n",
       "      <td>0.1980</td>\n",
       "      <td>0.10430</td>\n",
       "      <td>0.1809</td>\n",
       "      <td>...</td>\n",
       "      <td>22.54</td>\n",
       "      <td>16.67</td>\n",
       "      <td>152.20</td>\n",
       "      <td>1575.0</td>\n",
       "      <td>0.1374</td>\n",
       "      <td>0.2050</td>\n",
       "      <td>0.4000</td>\n",
       "      <td>0.1625</td>\n",
       "      <td>0.2364</td>\n",
       "      <td>0.07678</td>\n",
       "    </tr>\n",
       "  </tbody>\n",
       "</table>\n",
       "<p>5 rows × 31 columns</p>\n",
       "</div>"
      ],
      "text/plain": [
       "         diagnosis  radius_mean  radius_sd_error  radius_worst  texture_mean  \\\n",
       "ID                                                                             \n",
       "842302           M        17.99            10.38        122.80        1001.0   \n",
       "842517           M        20.57            17.77        132.90        1326.0   \n",
       "84300903         M        19.69            21.25        130.00        1203.0   \n",
       "84348301         M        11.42            20.38         77.58         386.1   \n",
       "84358402         M        20.29            14.34        135.10        1297.0   \n",
       "\n",
       "          texture_sd_error  texture_worst  perimeter_mean  perimeter_sd_error  \\\n",
       "ID                                                                              \n",
       "842302             0.11840        0.27760          0.3001             0.14710   \n",
       "842517             0.08474        0.07864          0.0869             0.07017   \n",
       "84300903           0.10960        0.15990          0.1974             0.12790   \n",
       "84348301           0.14250        0.28390          0.2414             0.10520   \n",
       "84358402           0.10030        0.13280          0.1980             0.10430   \n",
       "\n",
       "          perimeter_worst           ...             concavity_worst  \\\n",
       "ID                                  ...                               \n",
       "842302             0.2419           ...                       25.38   \n",
       "842517             0.1812           ...                       24.99   \n",
       "84300903           0.2069           ...                       23.57   \n",
       "84348301           0.2597           ...                       14.91   \n",
       "84358402           0.1809           ...                       22.54   \n",
       "\n",
       "          concave_points_mean  concave_points_sd_error  concave_points_worst  \\\n",
       "ID                                                                             \n",
       "842302                  17.33                   184.60                2019.0   \n",
       "842517                  23.41                   158.80                1956.0   \n",
       "84300903                25.53                   152.50                1709.0   \n",
       "84348301                26.50                    98.87                 567.7   \n",
       "84358402                16.67                   152.20                1575.0   \n",
       "\n",
       "          symmetry_mean  symmetry_sd_error  symmetry_worst  \\\n",
       "ID                                                           \n",
       "842302           0.1622             0.6656          0.7119   \n",
       "842517           0.1238             0.1866          0.2416   \n",
       "84300903         0.1444             0.4245          0.4504   \n",
       "84348301         0.2098             0.8663          0.6869   \n",
       "84358402         0.1374             0.2050          0.4000   \n",
       "\n",
       "          fractal_dimension_mean  fractal_dimension_sd_error  \\\n",
       "ID                                                             \n",
       "842302                    0.2654                      0.4601   \n",
       "842517                    0.1860                      0.2750   \n",
       "84300903                  0.2430                      0.3613   \n",
       "84348301                  0.2575                      0.6638   \n",
       "84358402                  0.1625                      0.2364   \n",
       "\n",
       "          fractal_dimension_worst  \n",
       "ID                                 \n",
       "842302                    0.11890  \n",
       "842517                    0.08902  \n",
       "84300903                  0.08758  \n",
       "84348301                  0.17300  \n",
       "84358402                  0.07678  \n",
       "\n",
       "[5 rows x 31 columns]"
      ]
     },
     "execution_count": 183,
     "metadata": {},
     "output_type": "execute_result"
    }
   ],
   "source": [
    "headers = pd.read_csv('data/field_names.txt', header=None)\n",
    "print headers.values.flatten()\n",
    "df = pd.read_csv('data/breast-cancer.csv', names=headers.values.flatten(), index_col='ID')\n",
    "df.head()"
   ]
  },
  {
   "cell_type": "code",
   "execution_count": 188,
   "metadata": {},
   "outputs": [
    {
     "data": {
      "text/html": [
       "<div>\n",
       "<table border=\"1\" class=\"dataframe\">\n",
       "  <thead>\n",
       "    <tr style=\"text-align: right;\">\n",
       "      <th></th>\n",
       "      <th>radius_mean</th>\n",
       "      <th>radius_sd_error</th>\n",
       "      <th>radius_worst</th>\n",
       "      <th>texture_mean</th>\n",
       "      <th>texture_sd_error</th>\n",
       "      <th>texture_worst</th>\n",
       "      <th>perimeter_mean</th>\n",
       "      <th>perimeter_sd_error</th>\n",
       "      <th>perimeter_worst</th>\n",
       "      <th>area_mean</th>\n",
       "      <th>...</th>\n",
       "      <th>concavity_worst</th>\n",
       "      <th>concave_points_mean</th>\n",
       "      <th>concave_points_sd_error</th>\n",
       "      <th>concave_points_worst</th>\n",
       "      <th>symmetry_mean</th>\n",
       "      <th>symmetry_sd_error</th>\n",
       "      <th>symmetry_worst</th>\n",
       "      <th>fractal_dimension_mean</th>\n",
       "      <th>fractal_dimension_sd_error</th>\n",
       "      <th>fractal_dimension_worst</th>\n",
       "    </tr>\n",
       "  </thead>\n",
       "  <tbody>\n",
       "    <tr>\n",
       "      <th>count</th>\n",
       "      <td>569.000000</td>\n",
       "      <td>569.000000</td>\n",
       "      <td>569.000000</td>\n",
       "      <td>569.000000</td>\n",
       "      <td>569.000000</td>\n",
       "      <td>569.000000</td>\n",
       "      <td>569.000000</td>\n",
       "      <td>569.000000</td>\n",
       "      <td>569.000000</td>\n",
       "      <td>569.000000</td>\n",
       "      <td>...</td>\n",
       "      <td>569.000000</td>\n",
       "      <td>569.000000</td>\n",
       "      <td>569.000000</td>\n",
       "      <td>569.000000</td>\n",
       "      <td>569.000000</td>\n",
       "      <td>569.000000</td>\n",
       "      <td>569.000000</td>\n",
       "      <td>569.000000</td>\n",
       "      <td>569.000000</td>\n",
       "      <td>569.000000</td>\n",
       "    </tr>\n",
       "    <tr>\n",
       "      <th>mean</th>\n",
       "      <td>14.127292</td>\n",
       "      <td>19.289649</td>\n",
       "      <td>91.969033</td>\n",
       "      <td>654.889104</td>\n",
       "      <td>0.096360</td>\n",
       "      <td>0.104341</td>\n",
       "      <td>0.088799</td>\n",
       "      <td>0.048919</td>\n",
       "      <td>0.181162</td>\n",
       "      <td>0.062798</td>\n",
       "      <td>...</td>\n",
       "      <td>16.269190</td>\n",
       "      <td>25.677223</td>\n",
       "      <td>107.261213</td>\n",
       "      <td>880.583128</td>\n",
       "      <td>0.132369</td>\n",
       "      <td>0.254265</td>\n",
       "      <td>0.272188</td>\n",
       "      <td>0.114606</td>\n",
       "      <td>0.290076</td>\n",
       "      <td>0.083946</td>\n",
       "    </tr>\n",
       "    <tr>\n",
       "      <th>std</th>\n",
       "      <td>3.524049</td>\n",
       "      <td>4.301036</td>\n",
       "      <td>24.298981</td>\n",
       "      <td>351.914129</td>\n",
       "      <td>0.014064</td>\n",
       "      <td>0.052813</td>\n",
       "      <td>0.079720</td>\n",
       "      <td>0.038803</td>\n",
       "      <td>0.027414</td>\n",
       "      <td>0.007060</td>\n",
       "      <td>...</td>\n",
       "      <td>4.833242</td>\n",
       "      <td>6.146258</td>\n",
       "      <td>33.602542</td>\n",
       "      <td>569.356993</td>\n",
       "      <td>0.022832</td>\n",
       "      <td>0.157336</td>\n",
       "      <td>0.208624</td>\n",
       "      <td>0.065732</td>\n",
       "      <td>0.061867</td>\n",
       "      <td>0.018061</td>\n",
       "    </tr>\n",
       "    <tr>\n",
       "      <th>min</th>\n",
       "      <td>6.981000</td>\n",
       "      <td>9.710000</td>\n",
       "      <td>43.790000</td>\n",
       "      <td>143.500000</td>\n",
       "      <td>0.052630</td>\n",
       "      <td>0.019380</td>\n",
       "      <td>0.000000</td>\n",
       "      <td>0.000000</td>\n",
       "      <td>0.106000</td>\n",
       "      <td>0.049960</td>\n",
       "      <td>...</td>\n",
       "      <td>7.930000</td>\n",
       "      <td>12.020000</td>\n",
       "      <td>50.410000</td>\n",
       "      <td>185.200000</td>\n",
       "      <td>0.071170</td>\n",
       "      <td>0.027290</td>\n",
       "      <td>0.000000</td>\n",
       "      <td>0.000000</td>\n",
       "      <td>0.156500</td>\n",
       "      <td>0.055040</td>\n",
       "    </tr>\n",
       "    <tr>\n",
       "      <th>25%</th>\n",
       "      <td>11.700000</td>\n",
       "      <td>16.170000</td>\n",
       "      <td>75.170000</td>\n",
       "      <td>420.300000</td>\n",
       "      <td>0.086370</td>\n",
       "      <td>0.064920</td>\n",
       "      <td>0.029560</td>\n",
       "      <td>0.020310</td>\n",
       "      <td>0.161900</td>\n",
       "      <td>0.057700</td>\n",
       "      <td>...</td>\n",
       "      <td>13.010000</td>\n",
       "      <td>21.080000</td>\n",
       "      <td>84.110000</td>\n",
       "      <td>515.300000</td>\n",
       "      <td>0.116600</td>\n",
       "      <td>0.147200</td>\n",
       "      <td>0.114500</td>\n",
       "      <td>0.064930</td>\n",
       "      <td>0.250400</td>\n",
       "      <td>0.071460</td>\n",
       "    </tr>\n",
       "    <tr>\n",
       "      <th>50%</th>\n",
       "      <td>13.370000</td>\n",
       "      <td>18.840000</td>\n",
       "      <td>86.240000</td>\n",
       "      <td>551.100000</td>\n",
       "      <td>0.095870</td>\n",
       "      <td>0.092630</td>\n",
       "      <td>0.061540</td>\n",
       "      <td>0.033500</td>\n",
       "      <td>0.179200</td>\n",
       "      <td>0.061540</td>\n",
       "      <td>...</td>\n",
       "      <td>14.970000</td>\n",
       "      <td>25.410000</td>\n",
       "      <td>97.660000</td>\n",
       "      <td>686.500000</td>\n",
       "      <td>0.131300</td>\n",
       "      <td>0.211900</td>\n",
       "      <td>0.226700</td>\n",
       "      <td>0.099930</td>\n",
       "      <td>0.282200</td>\n",
       "      <td>0.080040</td>\n",
       "    </tr>\n",
       "    <tr>\n",
       "      <th>75%</th>\n",
       "      <td>15.780000</td>\n",
       "      <td>21.800000</td>\n",
       "      <td>104.100000</td>\n",
       "      <td>782.700000</td>\n",
       "      <td>0.105300</td>\n",
       "      <td>0.130400</td>\n",
       "      <td>0.130700</td>\n",
       "      <td>0.074000</td>\n",
       "      <td>0.195700</td>\n",
       "      <td>0.066120</td>\n",
       "      <td>...</td>\n",
       "      <td>18.790000</td>\n",
       "      <td>29.720000</td>\n",
       "      <td>125.400000</td>\n",
       "      <td>1084.000000</td>\n",
       "      <td>0.146000</td>\n",
       "      <td>0.339100</td>\n",
       "      <td>0.382900</td>\n",
       "      <td>0.161400</td>\n",
       "      <td>0.317900</td>\n",
       "      <td>0.092080</td>\n",
       "    </tr>\n",
       "    <tr>\n",
       "      <th>max</th>\n",
       "      <td>28.110000</td>\n",
       "      <td>39.280000</td>\n",
       "      <td>188.500000</td>\n",
       "      <td>2501.000000</td>\n",
       "      <td>0.163400</td>\n",
       "      <td>0.345400</td>\n",
       "      <td>0.426800</td>\n",
       "      <td>0.201200</td>\n",
       "      <td>0.304000</td>\n",
       "      <td>0.097440</td>\n",
       "      <td>...</td>\n",
       "      <td>36.040000</td>\n",
       "      <td>49.540000</td>\n",
       "      <td>251.200000</td>\n",
       "      <td>4254.000000</td>\n",
       "      <td>0.222600</td>\n",
       "      <td>1.058000</td>\n",
       "      <td>1.252000</td>\n",
       "      <td>0.291000</td>\n",
       "      <td>0.663800</td>\n",
       "      <td>0.207500</td>\n",
       "    </tr>\n",
       "  </tbody>\n",
       "</table>\n",
       "<p>8 rows × 30 columns</p>\n",
       "</div>"
      ],
      "text/plain": [
       "       radius_mean  radius_sd_error  radius_worst  texture_mean  \\\n",
       "count   569.000000       569.000000    569.000000    569.000000   \n",
       "mean     14.127292        19.289649     91.969033    654.889104   \n",
       "std       3.524049         4.301036     24.298981    351.914129   \n",
       "min       6.981000         9.710000     43.790000    143.500000   \n",
       "25%      11.700000        16.170000     75.170000    420.300000   \n",
       "50%      13.370000        18.840000     86.240000    551.100000   \n",
       "75%      15.780000        21.800000    104.100000    782.700000   \n",
       "max      28.110000        39.280000    188.500000   2501.000000   \n",
       "\n",
       "       texture_sd_error  texture_worst  perimeter_mean  perimeter_sd_error  \\\n",
       "count        569.000000     569.000000      569.000000          569.000000   \n",
       "mean           0.096360       0.104341        0.088799            0.048919   \n",
       "std            0.014064       0.052813        0.079720            0.038803   \n",
       "min            0.052630       0.019380        0.000000            0.000000   \n",
       "25%            0.086370       0.064920        0.029560            0.020310   \n",
       "50%            0.095870       0.092630        0.061540            0.033500   \n",
       "75%            0.105300       0.130400        0.130700            0.074000   \n",
       "max            0.163400       0.345400        0.426800            0.201200   \n",
       "\n",
       "       perimeter_worst   area_mean           ...             concavity_worst  \\\n",
       "count       569.000000  569.000000           ...                  569.000000   \n",
       "mean          0.181162    0.062798           ...                   16.269190   \n",
       "std           0.027414    0.007060           ...                    4.833242   \n",
       "min           0.106000    0.049960           ...                    7.930000   \n",
       "25%           0.161900    0.057700           ...                   13.010000   \n",
       "50%           0.179200    0.061540           ...                   14.970000   \n",
       "75%           0.195700    0.066120           ...                   18.790000   \n",
       "max           0.304000    0.097440           ...                   36.040000   \n",
       "\n",
       "       concave_points_mean  concave_points_sd_error  concave_points_worst  \\\n",
       "count           569.000000               569.000000            569.000000   \n",
       "mean             25.677223               107.261213            880.583128   \n",
       "std               6.146258                33.602542            569.356993   \n",
       "min              12.020000                50.410000            185.200000   \n",
       "25%              21.080000                84.110000            515.300000   \n",
       "50%              25.410000                97.660000            686.500000   \n",
       "75%              29.720000               125.400000           1084.000000   \n",
       "max              49.540000               251.200000           4254.000000   \n",
       "\n",
       "       symmetry_mean  symmetry_sd_error  symmetry_worst  \\\n",
       "count     569.000000         569.000000      569.000000   \n",
       "mean        0.132369           0.254265        0.272188   \n",
       "std         0.022832           0.157336        0.208624   \n",
       "min         0.071170           0.027290        0.000000   \n",
       "25%         0.116600           0.147200        0.114500   \n",
       "50%         0.131300           0.211900        0.226700   \n",
       "75%         0.146000           0.339100        0.382900   \n",
       "max         0.222600           1.058000        1.252000   \n",
       "\n",
       "       fractal_dimension_mean  fractal_dimension_sd_error  \\\n",
       "count              569.000000                  569.000000   \n",
       "mean                 0.114606                    0.290076   \n",
       "std                  0.065732                    0.061867   \n",
       "min                  0.000000                    0.156500   \n",
       "25%                  0.064930                    0.250400   \n",
       "50%                  0.099930                    0.282200   \n",
       "75%                  0.161400                    0.317900   \n",
       "max                  0.291000                    0.663800   \n",
       "\n",
       "       fractal_dimension_worst  \n",
       "count               569.000000  \n",
       "mean                  0.083946  \n",
       "std                   0.018061  \n",
       "min                   0.055040  \n",
       "25%                   0.071460  \n",
       "50%                   0.080040  \n",
       "75%                   0.092080  \n",
       "max                   0.207500  \n",
       "\n",
       "[8 rows x 30 columns]"
      ]
     },
     "execution_count": 188,
     "metadata": {},
     "output_type": "execute_result"
    }
   ],
   "source": [
    "df.describe()"
   ]
  },
  {
   "cell_type": "markdown",
   "metadata": {},
   "source": [
    "#### Check diagnosis distribution and smooothness & compactness grouped by diagnosis"
   ]
  },
  {
   "cell_type": "code",
   "execution_count": 33,
   "metadata": {},
   "outputs": [
    {
     "data": {
      "text/plain": [
       "<matplotlib.axes._subplots.AxesSubplot at 0x11572ce50>"
      ]
     },
     "execution_count": 33,
     "metadata": {},
     "output_type": "execute_result"
    },
    {
     "data": {
      "image/png": "[encoded data removed]",
      "text/plain": [
       "<matplotlib.figure.Figure at 0x11572c5d0>"
      ]
     },
     "metadata": {},
     "output_type": "display_data"
    }
   ],
   "source": [
    "df['diagnosis'].value_counts().plot(kind='pie')"
   ]
  },
  {
   "cell_type": "code",
   "execution_count": 103,
   "metadata": {},
   "outputs": [
    {
     "data": {
      "text/plain": [
       "<matplotlib.axes._subplots.AxesSubplot at 0x119a238d0>"
      ]
     },
     "execution_count": 103,
     "metadata": {},
     "output_type": "execute_result"
    },
    {
     "data": {
      "image/png": "[encoded data removed]",
      "text/plain": [
       "<matplotlib.figure.Figure at 0x119a138d0>"
      ]
     },
     "metadata": {},
     "output_type": "display_data"
    }
   ],
   "source": [
    "df.boxplot(by='diagnosis', column='smoothness_mean')"
   ]
  },
  {
   "cell_type": "code",
   "execution_count": 106,
   "metadata": {},
   "outputs": [
    {
     "data": {
      "text/plain": [
       "array([<matplotlib.axes._subplots.AxesSubplot object at 0x119963810>,\n",
       "       <matplotlib.axes._subplots.AxesSubplot object at 0x119d98110>], dtype=object)"
      ]
     },
     "execution_count": 106,
     "metadata": {},
     "output_type": "execute_result"
    },
    {
     "data": {
      "image/png": "[encoded data removed]",
      "text/plain": [
       "<matplotlib.figure.Figure at 0x119b2ee50>"
      ]
     },
     "metadata": {},
     "output_type": "display_data"
    }
   ],
   "source": [
    "df.hist(by='diagnosis', column='smoothness_mean')"
   ]
  },
  {
   "cell_type": "code",
   "execution_count": 104,
   "metadata": {},
   "outputs": [
    {
     "data": {
      "text/plain": [
       "<matplotlib.axes._subplots.AxesSubplot at 0x119acb610>"
      ]
     },
     "execution_count": 104,
     "metadata": {},
     "output_type": "execute_result"
    },
    {
     "data": {
      "image/png": "[encoded data removed]",
      "text/plain": [
       "<matplotlib.figure.Figure at 0x119a42c90>"
      ]
     },
     "metadata": {},
     "output_type": "display_data"
    }
   ],
   "source": [
    "df.boxplot(by='diagnosis', column='compactness_mean')"
   ]
  },
  {
   "cell_type": "code",
   "execution_count": 107,
   "metadata": {},
   "outputs": [
    {
     "data": {
      "text/plain": [
       "array([<matplotlib.axes._subplots.AxesSubplot object at 0x119edee90>,\n",
       "       <matplotlib.axes._subplots.AxesSubplot object at 0x119fc2910>], dtype=object)"
      ]
     },
     "execution_count": 107,
     "metadata": {},
     "output_type": "execute_result"
    },
    {
     "data": {
      "image/png": "[encoded data removed]",
      "text/plain": [
       "<matplotlib.figure.Figure at 0x119e90e10>"
      ]
     },
     "metadata": {},
     "output_type": "display_data"
    }
   ],
   "source": [
    "df.hist(by='diagnosis', column='compactness_mean')"
   ]
  },
  {
   "cell_type": "code",
   "execution_count": 36,
   "metadata": {
    "collapsed": true
   },
   "outputs": [],
   "source": [
    "pysqldf = lambda q: sqldf(q, globals())"
   ]
  },
  {
   "cell_type": "code",
   "execution_count": 109,
   "metadata": {},
   "outputs": [
    {
     "data": {
      "text/html": [
       "<div>\n",
       "<table border=\"1\" class=\"dataframe\">\n",
       "  <thead>\n",
       "    <tr style=\"text-align: right;\">\n",
       "      <th></th>\n",
       "      <th>avg(smoothness_mean)</th>\n",
       "      <th>avg(compactness_mean)</th>\n",
       "    </tr>\n",
       "  </thead>\n",
       "  <tbody>\n",
       "    <tr>\n",
       "      <th>0</th>\n",
       "      <td>2.000321</td>\n",
       "      <td>0.021438</td>\n",
       "    </tr>\n",
       "    <tr>\n",
       "      <th>1</th>\n",
       "      <td>4.323929</td>\n",
       "      <td>0.032281</td>\n",
       "    </tr>\n",
       "  </tbody>\n",
       "</table>\n",
       "</div>"
      ],
      "text/plain": [
       "   avg(smoothness_mean)  avg(compactness_mean)\n",
       "0              2.000321               0.021438\n",
       "1              4.323929               0.032281"
      ]
     },
     "execution_count": 109,
     "metadata": {},
     "output_type": "execute_result"
    }
   ],
   "source": [
    "q  = \"\"\"\n",
    "SELECT avg(smoothness_mean), avg(compactness_mean)\n",
    "FROM df\n",
    "GROUP BY diagnosis\n",
    ";\n",
    "\"\"\"\n",
    "result = pysqldf(q)\n",
    "result"
   ]
  },
  {
   "cell_type": "markdown",
   "metadata": {},
   "source": [
    "#### Compute mean and median"
   ]
  },
  {
   "cell_type": "code",
   "execution_count": 116,
   "metadata": {},
   "outputs": [
    {
     "name": "stdout",
     "output_type": "stream",
     "text": [
      "('mean:', diagnosis\n",
      "B    2.000321\n",
      "M    4.323929\n",
      "Name: smoothness_mean, dtype: float64)\n",
      "('median:', diagnosis\n",
      "B    1.8510\n",
      "M    3.6795\n",
      "Name: smoothness_mean, dtype: float64)\n"
     ]
    }
   ],
   "source": [
    "grouped = df.groupby('diagnosis')\n",
    "print(\"mean:\", grouped.smoothness_mean.mean())\n",
    "print(\"median:\", grouped.smoothness_mean.median())"
   ]
  },
  {
   "cell_type": "markdown",
   "metadata": {},
   "source": [
    "- to check if the distribution differ we would need to run an independent 2-sample statistical test for M & B groups such as t-test if the data (or transformed data) is normally distributed (doesn't seem to be the case here). Otherwise we would use an non-parametric Mann-Whitney test."
   ]
  },
  {
   "cell_type": "markdown",
   "metadata": {},
   "source": [
    "#### Bootstrap sampling of data"
   ]
  },
  {
   "cell_type": "markdown",
   "metadata": {},
   "source": [
    "we randomly select with replacement a subset of the data"
   ]
  },
  {
   "cell_type": "code",
   "execution_count": 122,
   "metadata": {},
   "outputs": [
    {
     "name": "stdout",
     "output_type": "stream",
     "text": [
      "(569, 31) (57, 31)\n"
     ]
    },
    {
     "data": {
      "text/html": [
       "<div>\n",
       "<table border=\"1\" class=\"dataframe\">\n",
       "  <thead>\n",
       "    <tr style=\"text-align: right;\">\n",
       "      <th></th>\n",
       "      <th>diagnosis</th>\n",
       "      <th>radius_mean</th>\n",
       "      <th>radius_sd_error</th>\n",
       "      <th>radius_worst</th>\n",
       "      <th>texture_mean</th>\n",
       "      <th>texture_sd_error</th>\n",
       "      <th>texture_worst</th>\n",
       "      <th>perimeter_mean</th>\n",
       "      <th>perimeter_sd_error</th>\n",
       "      <th>perimeter_worst</th>\n",
       "      <th>...</th>\n",
       "      <th>concavity_worst</th>\n",
       "      <th>concave_points_mean</th>\n",
       "      <th>concave_points_sd_error</th>\n",
       "      <th>concave_points_worst</th>\n",
       "      <th>symmetry_mean</th>\n",
       "      <th>symmetry_sd_error</th>\n",
       "      <th>symmetry_worst</th>\n",
       "      <th>fractal_dimension_mean</th>\n",
       "      <th>fractal_dimension_sd_error</th>\n",
       "      <th>fractal_dimension_worst</th>\n",
       "    </tr>\n",
       "    <tr>\n",
       "      <th>ID</th>\n",
       "      <th></th>\n",
       "      <th></th>\n",
       "      <th></th>\n",
       "      <th></th>\n",
       "      <th></th>\n",
       "      <th></th>\n",
       "      <th></th>\n",
       "      <th></th>\n",
       "      <th></th>\n",
       "      <th></th>\n",
       "      <th></th>\n",
       "      <th></th>\n",
       "      <th></th>\n",
       "      <th></th>\n",
       "      <th></th>\n",
       "      <th></th>\n",
       "      <th></th>\n",
       "      <th></th>\n",
       "      <th></th>\n",
       "      <th></th>\n",
       "      <th></th>\n",
       "    </tr>\n",
       "  </thead>\n",
       "  <tbody>\n",
       "    <tr>\n",
       "      <th>868871</th>\n",
       "      <td>B</td>\n",
       "      <td>11.28</td>\n",
       "      <td>13.39</td>\n",
       "      <td>73.00</td>\n",
       "      <td>384.8</td>\n",
       "      <td>0.11640</td>\n",
       "      <td>0.11360</td>\n",
       "      <td>0.04635</td>\n",
       "      <td>0.04796</td>\n",
       "      <td>0.1771</td>\n",
       "      <td>...</td>\n",
       "      <td>11.92</td>\n",
       "      <td>15.77</td>\n",
       "      <td>76.53</td>\n",
       "      <td>434.0</td>\n",
       "      <td>0.1367</td>\n",
       "      <td>0.1822</td>\n",
       "      <td>0.08669</td>\n",
       "      <td>0.08611</td>\n",
       "      <td>0.2102</td>\n",
       "      <td>0.06784</td>\n",
       "    </tr>\n",
       "    <tr>\n",
       "      <th>873701</th>\n",
       "      <td>M</td>\n",
       "      <td>15.70</td>\n",
       "      <td>20.31</td>\n",
       "      <td>101.20</td>\n",
       "      <td>766.6</td>\n",
       "      <td>0.09597</td>\n",
       "      <td>0.08799</td>\n",
       "      <td>0.06593</td>\n",
       "      <td>0.05189</td>\n",
       "      <td>0.1618</td>\n",
       "      <td>...</td>\n",
       "      <td>20.11</td>\n",
       "      <td>32.82</td>\n",
       "      <td>129.30</td>\n",
       "      <td>1269.0</td>\n",
       "      <td>0.1414</td>\n",
       "      <td>0.3547</td>\n",
       "      <td>0.29020</td>\n",
       "      <td>0.15410</td>\n",
       "      <td>0.3437</td>\n",
       "      <td>0.08631</td>\n",
       "    </tr>\n",
       "    <tr>\n",
       "      <th>884626</th>\n",
       "      <td>B</td>\n",
       "      <td>12.89</td>\n",
       "      <td>14.11</td>\n",
       "      <td>84.95</td>\n",
       "      <td>512.2</td>\n",
       "      <td>0.08760</td>\n",
       "      <td>0.13460</td>\n",
       "      <td>0.13740</td>\n",
       "      <td>0.03980</td>\n",
       "      <td>0.1596</td>\n",
       "      <td>...</td>\n",
       "      <td>14.39</td>\n",
       "      <td>17.70</td>\n",
       "      <td>105.00</td>\n",
       "      <td>639.1</td>\n",
       "      <td>0.1254</td>\n",
       "      <td>0.5849</td>\n",
       "      <td>0.77270</td>\n",
       "      <td>0.15610</td>\n",
       "      <td>0.2639</td>\n",
       "      <td>0.11780</td>\n",
       "    </tr>\n",
       "    <tr>\n",
       "      <th>87556202</th>\n",
       "      <td>M</td>\n",
       "      <td>14.86</td>\n",
       "      <td>23.21</td>\n",
       "      <td>100.40</td>\n",
       "      <td>671.4</td>\n",
       "      <td>0.10440</td>\n",
       "      <td>0.19800</td>\n",
       "      <td>0.16970</td>\n",
       "      <td>0.08878</td>\n",
       "      <td>0.1737</td>\n",
       "      <td>...</td>\n",
       "      <td>16.08</td>\n",
       "      <td>27.78</td>\n",
       "      <td>118.60</td>\n",
       "      <td>784.7</td>\n",
       "      <td>0.1316</td>\n",
       "      <td>0.4648</td>\n",
       "      <td>0.45890</td>\n",
       "      <td>0.17270</td>\n",
       "      <td>0.3000</td>\n",
       "      <td>0.08701</td>\n",
       "    </tr>\n",
       "    <tr>\n",
       "      <th>856106</th>\n",
       "      <td>M</td>\n",
       "      <td>13.28</td>\n",
       "      <td>20.28</td>\n",
       "      <td>87.32</td>\n",
       "      <td>545.2</td>\n",
       "      <td>0.10410</td>\n",
       "      <td>0.14360</td>\n",
       "      <td>0.09847</td>\n",
       "      <td>0.06158</td>\n",
       "      <td>0.1974</td>\n",
       "      <td>...</td>\n",
       "      <td>17.38</td>\n",
       "      <td>28.00</td>\n",
       "      <td>113.10</td>\n",
       "      <td>907.2</td>\n",
       "      <td>0.1530</td>\n",
       "      <td>0.3724</td>\n",
       "      <td>0.36640</td>\n",
       "      <td>0.14920</td>\n",
       "      <td>0.3739</td>\n",
       "      <td>0.10270</td>\n",
       "    </tr>\n",
       "  </tbody>\n",
       "</table>\n",
       "<p>5 rows × 31 columns</p>\n",
       "</div>"
      ],
      "text/plain": [
       "         diagnosis  radius_mean  radius_sd_error  radius_worst  texture_mean  \\\n",
       "ID                                                                             \n",
       "868871           B        11.28            13.39         73.00         384.8   \n",
       "873701           M        15.70            20.31        101.20         766.6   \n",
       "884626           B        12.89            14.11         84.95         512.2   \n",
       "87556202         M        14.86            23.21        100.40         671.4   \n",
       "856106           M        13.28            20.28         87.32         545.2   \n",
       "\n",
       "          texture_sd_error  texture_worst  perimeter_mean  perimeter_sd_error  \\\n",
       "ID                                                                              \n",
       "868871             0.11640        0.11360         0.04635             0.04796   \n",
       "873701             0.09597        0.08799         0.06593             0.05189   \n",
       "884626             0.08760        0.13460         0.13740             0.03980   \n",
       "87556202           0.10440        0.19800         0.16970             0.08878   \n",
       "856106             0.10410        0.14360         0.09847             0.06158   \n",
       "\n",
       "          perimeter_worst           ...             concavity_worst  \\\n",
       "ID                                  ...                               \n",
       "868871             0.1771           ...                       11.92   \n",
       "873701             0.1618           ...                       20.11   \n",
       "884626             0.1596           ...                       14.39   \n",
       "87556202           0.1737           ...                       16.08   \n",
       "856106             0.1974           ...                       17.38   \n",
       "\n",
       "          concave_points_mean  concave_points_sd_error  concave_points_worst  \\\n",
       "ID                                                                             \n",
       "868871                  15.77                    76.53                 434.0   \n",
       "873701                  32.82                   129.30                1269.0   \n",
       "884626                  17.70                   105.00                 639.1   \n",
       "87556202                27.78                   118.60                 784.7   \n",
       "856106                  28.00                   113.10                 907.2   \n",
       "\n",
       "          symmetry_mean  symmetry_sd_error  symmetry_worst  \\\n",
       "ID                                                           \n",
       "868871           0.1367             0.1822         0.08669   \n",
       "873701           0.1414             0.3547         0.29020   \n",
       "884626           0.1254             0.5849         0.77270   \n",
       "87556202         0.1316             0.4648         0.45890   \n",
       "856106           0.1530             0.3724         0.36640   \n",
       "\n",
       "          fractal_dimension_mean  fractal_dimension_sd_error  \\\n",
       "ID                                                             \n",
       "868871                   0.08611                      0.2102   \n",
       "873701                   0.15410                      0.3437   \n",
       "884626                   0.15610                      0.2639   \n",
       "87556202                 0.17270                      0.3000   \n",
       "856106                   0.14920                      0.3739   \n",
       "\n",
       "          fractal_dimension_worst  \n",
       "ID                                 \n",
       "868871                    0.06784  \n",
       "873701                    0.08631  \n",
       "884626                    0.11780  \n",
       "87556202                  0.08701  \n",
       "856106                    0.10270  \n",
       "\n",
       "[5 rows x 31 columns]"
      ]
     },
     "execution_count": 122,
     "metadata": {},
     "output_type": "execute_result"
    }
   ],
   "source": [
    "bootstrap = df.sample(frac=0.1, replace=True)\n",
    "print df.shape, bootstrap.shape\n",
    "bootstrap.head()"
   ]
  },
  {
   "cell_type": "markdown",
   "metadata": {},
   "source": [
    "## Exploratory analysis"
   ]
  },
  {
   "cell_type": "code",
   "execution_count": 130,
   "metadata": {},
   "outputs": [
    {
     "data": {
      "image/png": "[encoded data removed]",
      "text/plain": [
       "<matplotlib.figure.Figure at 0x11b911c90>"
      ]
     },
     "metadata": {},
     "output_type": "display_data"
    },
    {
     "data": {
      "image/png": "[encoded data removed]",
      "text/plain": [
       "<matplotlib.figure.Figure at 0x11b89b450>"
      ]
     },
     "metadata": {},
     "output_type": "display_data"
    },
    {
     "data": {
      "image/png": "[encoded data removed]",
      "text/plain": [
       "<matplotlib.figure.Figure at 0x11b911cd0>"
      ]
     },
     "metadata": {},
     "output_type": "display_data"
    },
    {
     "data": {
      "image/png": "[encoded data removed]",
      "text/plain": [
       "<matplotlib.figure.Figure at 0x11a824ad0>"
      ]
     },
     "metadata": {},
     "output_type": "display_data"
    },
    {
     "data": {
      "image/png": "[encoded data removed]",
      "text/plain": [
       "<matplotlib.figure.Figure at 0x11b911b10>"
      ]
     },
     "metadata": {},
     "output_type": "display_data"
    },
    {
     "data": {
      "image/png": "[encoded data removed]",
      "text/plain": [
       "<matplotlib.figure.Figure at 0x11c0c0d50>"
      ]
     },
     "metadata": {},
     "output_type": "display_data"
    },
    {
     "data": {
      "image/png": "[encoded data removed]",
      "text/plain": [
       "<matplotlib.figure.Figure at 0x11a9c9e50>"
      ]
     },
     "metadata": {},
     "output_type": "display_data"
    },
    {
     "data": {
      "image/png": "[encoded data removed]",
      "text/plain": [
       "<matplotlib.figure.Figure at 0x11c306990>"
      ]
     },
     "metadata": {},
     "output_type": "display_data"
    },
    {
     "data": {
      "image/png": "[encoded data removed]",
      "text/plain": [
       "<matplotlib.figure.Figure at 0x11c068ed0>"
      ]
     },
     "metadata": {},
     "output_type": "display_data"
    },
    {
     "data": {
      "image/png": "[encoded data removed]",
      "text/plain": [
       "<matplotlib.figure.Figure at 0x11c23e8d0>"
      ]
     },
     "metadata": {},
     "output_type": "display_data"
    }
   ],
   "source": [
    "df.boxplot(by='diagnosis', column='radius_mean')\n",
    "df.boxplot(by='diagnosis', column='texture_mean')\n",
    "df.boxplot(by='diagnosis', column='perimeter_mean')\n",
    "df.boxplot(by='diagnosis', column='area_mean')\n",
    "df.boxplot(by='diagnosis', column='smoothness_mean')\n",
    "df.boxplot(by='diagnosis', column='compactness_mean')\n",
    "df.boxplot(by='diagnosis', column='concavity_mean')\n",
    "df.boxplot(by='diagnosis', column='concave_points_mean')\n",
    "df.boxplot(by='diagnosis', column='symmetry_mean')\n",
    "df.boxplot(by='diagnosis', column='fractal_dimension_mean');"
   ]
  },
  {
   "cell_type": "markdown",
   "metadata": {},
   "source": [
    "it looks like radius and texture mean might be good predictors of a malignant tumor with higher values associated with malignant tumors"
   ]
  },
  {
   "cell_type": "markdown",
   "metadata": {},
   "source": [
    "## Modeling"
   ]
  },
  {
   "cell_type": "code",
   "execution_count": 213,
   "metadata": {},
   "outputs": [],
   "source": [
    "from sklearn import linear_model\n",
    "from sklearn import preprocessing\n",
    "from sklearn import model_selection\n",
    "from sklearn.cross_validation import train_test_split"
   ]
  },
  {
   "cell_type": "code",
   "execution_count": 214,
   "metadata": {},
   "outputs": [
    {
     "name": "stdout",
     "output_type": "stream",
     "text": [
      "[[  7.92541486e-03   4.57286305e-03   5.40989964e-02   4.40986119e-01\n",
      "    5.21605959e-05   1.22295451e-04   1.32207727e-04   6.48042538e-05\n",
      "    1.06567974e-04   3.46753421e-05   4.82397403e-04   3.98825907e-04\n",
      "    3.78384593e-03   6.75796909e-02   2.81905112e-06   2.16043549e-05\n",
      "    2.36705136e-05   6.99145825e-06   1.32295836e-05   2.72829873e-06\n",
      "    1.11810466e-02   7.63465478e-03   8.13247128e-02   8.89461512e-01\n",
      "    7.14564920e-05   2.93227133e-04   3.13624394e-04   1.16920795e-04\n",
      "    2.02695018e-04   5.23808686e-05]]\n",
      "ID\n",
      "842302    1\n",
      "Name: diagnosis, dtype: int64\n"
     ]
    }
   ],
   "source": [
    "y = df.diagnosis\n",
    "X = df[df.columns[1:]]\n",
    "X_ = preprocessing.normalize(X)\n",
    "y_ = y.replace(['M', 'B'], [1,0])\n",
    "\n",
    "print X_[:1]\n",
    "print y_[:1]"
   ]
  },
  {
   "cell_type": "code",
   "execution_count": 216,
   "metadata": {},
   "outputs": [
    {
     "name": "stdout",
     "output_type": "stream",
     "text": [
      "(569, 30) (569,)\n",
      "(455, 30) (455,)\n",
      "(114, 30) (114,)\n"
     ]
    }
   ],
   "source": [
    "X_train, X_test, y_train, y_test = train_test_split(X_, y_, test_size=0.2, random_state=42)\n",
    "print X_.shape, y_.shape\n",
    "print X_train.shape, y_train.shape\n",
    "print X_test.shape, y_test.shape"
   ]
  },
  {
   "cell_type": "code",
   "execution_count": 227,
   "metadata": {},
   "outputs": [
    {
     "data": {
      "text/plain": [
       "LogisticRegression(C=2.0, class_weight=None, dual=False, fit_intercept=True,\n",
       "          intercept_scaling=1, max_iter=100, multi_class='ovr', n_jobs=1,\n",
       "          penalty='l2', random_state=0, solver='liblinear', tol=0.0001,\n",
       "          verbose=0, warm_start=False)"
      ]
     },
     "execution_count": 227,
     "metadata": {},
     "output_type": "execute_result"
    }
   ],
   "source": [
    "lr = linear_model.LogisticRegression(C=2., random_state=0) #,  class_weight='balanced')\n",
    "#lr = LogisticRegression(C=1000.0, random_state=0)\n",
    "lr.fit(X_train, y_train)"
   ]
  },
  {
   "cell_type": "code",
   "execution_count": 228,
   "metadata": {},
   "outputs": [
    {
     "name": "stdout",
     "output_type": "stream",
     "text": [
      "0.828571428571\n",
      "0.877192982456\n"
     ]
    }
   ],
   "source": [
    "print lr.score(X_train, y_train)\n",
    "print lr.score(X_test, y_test)"
   ]
  },
  {
   "cell_type": "code",
   "execution_count": 229,
   "metadata": {},
   "outputs": [
    {
     "name": "stdout",
     "output_type": "stream",
     "text": [
      "5−Fold Cross Validation Accuracy: 0.81 (+/− 0.02)\n",
      "−−−−−− training set report−−−−−\n",
      "             precision    recall  f1-score   support\n",
      "\n",
      "          0       0.79      1.00      0.88       286\n",
      "          1       0.99      0.54      0.70       169\n",
      "\n",
      "avg / total       0.86      0.83      0.81       455\n",
      "\n",
      "−−−−−−− testing set report −−−−−\n",
      "             precision    recall  f1-score   support\n",
      "\n",
      "          0       0.84      1.00      0.91        71\n",
      "          1       1.00      0.67      0.81        43\n",
      "\n",
      "avg / total       0.90      0.88      0.87       114\n",
      "\n"
     ]
    },
    {
     "data": {
      "text/plain": [
       "<matplotlib.colorbar.Colorbar at 0x11a20f310>"
      ]
     },
     "execution_count": 229,
     "metadata": {},
     "output_type": "execute_result"
    },
    {
     "data": {
      "image/png": "[encoded data removed]",
      "text/plain": [
       "<matplotlib.figure.Figure at 0x110208c50>"
      ]
     },
     "metadata": {},
     "output_type": "display_data"
    }
   ],
   "source": [
    "from sklearn import cross_validation, metrics\n",
    "from scipy.stats import sem\n",
    "cv = cross_validation.KFold(X_train.shape[0], 5, shuffle=True , random_state=33)\n",
    "scores = cross_validation.cross_val_score(lr, X_train, y_train , cv=cv )\n",
    "print(\"%d−Fold Cross Validation Accuracy: %0.2f (+/− %0.2f)\"%(5,scores.mean() , sem(scores)))\n",
    "print \"−−−−−− training set report−−−−−\"\n",
    "y_pred_train = lr.predict(X_train)\n",
    "print metrics.classification_report(y_train, y_pred_train)\n",
    "print \"−−−−−−− testing set report −−−−−\"\n",
    "y_pred_test = lr.predict(X_test)\n",
    "print metrics.classification_report(y_test, y_pred_test)\n",
    "confusion_matrix = metrics.confusion_matrix(y_test, y_pred_test)\n",
    "plt.matshow(confusion_matrix)\n",
    "plt.ylabel('True label')\n",
    "plt.xlabel('Predicted label')\n",
    "plt.colorbar()\n"
   ]
  },
  {
   "cell_type": "code",
   "execution_count": 232,
   "metadata": {},
   "outputs": [
    {
     "name": "stdout",
     "output_type": "stream",
     "text": [
      "[learning_curve] Training set sizes: [ 36 117 199 281 363]\n"
     ]
    },
    {
     "name": "stderr",
     "output_type": "stream",
     "text": [
      "[Parallel(n_jobs=1)]: Done  25 out of  25 | elapsed:    0.1s finished\n"
     ]
    },
    {
     "data": {
      "image/png": "[encoded data removed]",
      "text/plain": [
       "<matplotlib.figure.Figure at 0x11bcfc350>"
      ]
     },
     "metadata": {},
     "output_type": "display_data"
    }
   ],
   "source": [
    "from sklearn.learning_curve import learning_curve\n",
    "def plotLearningCurve(X_train, y_train, clf):\n",
    "    plt.figure()\n",
    "    plt.title (\"Learning curve (SVM)\")\n",
    "    plt.xlabel(\"training examples\")\n",
    "    plt.ylabel(\"scores\")\n",
    "    train_sizes , train_scores , test_scores = learning_curve(clf , X_train , y_train , cv=5, verbose=1)\n",
    "    train_scores_mean = np.mean(train_scores , axis=1)\n",
    "    train_scores_std = np.std(train_scores , axis=1)\n",
    "    test_scores_mean = np.mean(test_scores , axis=1)\n",
    "    test_scores_std = np.std(test_scores , axis=1)\n",
    "    plt.plot(train_sizes, train_scores_mean , 'o-', label=\"Training score\", color=\"r\")\n",
    "    plt.fill_between(train_sizes , train_scores_mean-train_scores_std, train_scores_mean + train_scores_std, alpha=0.2, color=\"r\")\n",
    "    plt.plot(train_sizes, test_scores_mean,'o-', label=\"Test score\",color =\"g\")\n",
    "    plt.fill_between(train_sizes, test_scores_mean - test_scores_std , test_scores_mean + test_scores_std , alpha=0.2, color=\"g\")\n",
    "    plt.legend(loc =\"best\")\n",
    "    plt.autoscale(tight=True)\n",
    "    plt.show()\n",
    "    \n",
    "plotLearningCurve(X_train, y_train, lr)"
   ]
  },
  {
   "cell_type": "code",
   "execution_count": 233,
   "metadata": {},
   "outputs": [
    {
     "name": "stdout",
     "output_type": "stream",
     "text": [
      "114\n",
      "114\n",
      "[ 0.  1.] [ 0.6744186  1.       ] [1 0]\n"
     ]
    },
    {
     "data": {
      "text/plain": [
       "<matplotlib.legend.Legend at 0x11c241fd0>"
      ]
     },
     "execution_count": 233,
     "metadata": {},
     "output_type": "execute_result"
    },
    {
     "data": {
      "image/png": "[encoded data removed]",
      "text/plain": [
       "<matplotlib.figure.Figure at 0x11bc76510>"
      ]
     },
     "metadata": {},
     "output_type": "display_data"
    }
   ],
   "source": [
    "from sklearn.metrics import roc_curve, auc\n",
    "fpr, tpr, _ = metrics.roc_curve(y_test, y_pred_test)\n",
    "\n",
    "print len(y_test)\n",
    "print len(y_pred_test)\n",
    "print fpr, tpr, _\n",
    "\n",
    "roc_auc = auc(fpr, tpr)\n",
    "plt.plot(fpr, tpr, 'b', label='AUC = %0.2f'% roc_auc)\n",
    "plt.plot([0, 1], [0, 1], 'k--')\n",
    "plt.xlim([0.0, 1.0])\n",
    "plt.ylim([0.0, 1.0])\n",
    "plt.xlabel('False Positive Rate or (1 - Specifity)')\n",
    "plt.ylabel('True Positive Rate or (Sensitivity)')\n",
    "plt.title('Receiver Operating Characteristic')\n",
    "plt.legend(loc=\"lower right\")"
   ]
  },
  {
   "cell_type": "code",
   "execution_count": 201,
   "metadata": {},
   "outputs": [],
   "source": [
    "import xgboost"
   ]
  },
  {
   "cell_type": "code",
   "execution_count": 235,
   "metadata": {},
   "outputs": [
    {
     "name": "stdout",
     "output_type": "stream",
     "text": [
      "LogisticRegression(C=1.0, class_weight=None, dual=False, fit_intercept=True,\n",
      "          intercept_scaling=1, max_iter=100, multi_class='ovr', n_jobs=1,\n",
      "          penalty='l2', random_state=0, solver='liblinear', tol=0.0001,\n",
      "          verbose=0, warm_start=False)\n"
     ]
    }
   ],
   "source": [
    "xgb = xgboost.XGBClassifier()\n",
    "xgb.fit(X_train, y_train)\n",
    "print(model)"
   ]
  },
  {
   "cell_type": "code",
   "execution_count": 239,
   "metadata": {},
   "outputs": [
    {
     "name": "stdout",
     "output_type": "stream",
     "text": [
      "0.997802197802\n",
      "0.956140350877\n"
     ]
    }
   ],
   "source": [
    "print xgb.score(X_train, y_train)\n",
    "print xgb.score(X_test, y_test)"
   ]
  },
  {
   "cell_type": "code",
   "execution_count": 238,
   "metadata": {},
   "outputs": [
    {
     "name": "stdout",
     "output_type": "stream",
     "text": [
      "Accuracy: 95.61%\n"
     ]
    }
   ],
   "source": [
    "y_pred = xgb.predict(X_test)\n",
    "accuracy = metrics.accuracy_score(y_test, y_pred)\n",
    "print(\"Accuracy: %.2f%%\" % (accuracy * 100.0))"
   ]
  },
  {
   "cell_type": "code",
   "execution_count": 242,
   "metadata": {},
   "outputs": [
    {
     "name": "stdout",
     "output_type": "stream",
     "text": [
      "5−Fold Cross Validation Accuracy: 0.95 (+/− 0.01)\n",
      "−−−−−− training set report−−−−−\n",
      "             precision    recall  f1-score   support\n",
      "\n",
      "          0       1.00      1.00      1.00       286\n",
      "          1       1.00      0.99      1.00       169\n",
      "\n",
      "avg / total       1.00      1.00      1.00       455\n",
      "\n",
      "−−−−−−− testing set report −−−−−\n",
      "             precision    recall  f1-score   support\n",
      "\n",
      "          0       0.95      0.99      0.97        71\n",
      "          1       0.97      0.91      0.94        43\n",
      "\n",
      "avg / total       0.96      0.96      0.96       114\n",
      "\n"
     ]
    },
    {
     "data": {
      "text/plain": [
       "<matplotlib.colorbar.Colorbar at 0x11c27fdd0>"
      ]
     },
     "execution_count": 242,
     "metadata": {},
     "output_type": "execute_result"
    },
    {
     "data": {
      "image/png": "[encoded data removed]",
      "text/plain": [
       "<matplotlib.figure.Figure at 0x11b009090>"
      ]
     },
     "metadata": {},
     "output_type": "display_data"
    }
   ],
   "source": [
    "from sklearn import cross_validation, metrics\n",
    "from scipy.stats import sem\n",
    "cv = cross_validation.KFold(X_train.shape[0], 5, shuffle=True , random_state=33)\n",
    "scores = cross_validation.cross_val_score(xgb, X_train, y_train , cv=cv )\n",
    "print(\"%d−Fold Cross Validation Accuracy: %0.2f (+/− %0.2f)\"%(5,scores.mean() , sem(scores)))\n",
    "print \"−−−−−− training set report−−−−−\"\n",
    "y_pred_train = xgb.predict(X_train)\n",
    "print metrics.classification_report(y_train, y_pred_train)\n",
    "print \"−−−−−−− testing set report −−−−−\"\n",
    "y_pred_test = xgb.predict(X_test)\n",
    "print metrics.classification_report(y_test, y_pred_test)\n",
    "confusion_matrix = metrics.confusion_matrix(y_test, y_pred_test)\n",
    "plt.matshow(confusion_matrix)\n",
    "plt.ylabel('True label')\n",
    "plt.xlabel('Predicted label')\n",
    "plt.colorbar()"
   ]
  },
  {
   "cell_type": "code",
   "execution_count": 247,
   "metadata": {},
   "outputs": [
    {
     "name": "stdout",
     "output_type": "stream",
     "text": [
      "[learning_curve] Training set sizes: [ 36 117 199 281 363]\n"
     ]
    },
    {
     "name": "stderr",
     "output_type": "stream",
     "text": [
      "[Parallel(n_jobs=1)]: Done  25 out of  25 | elapsed:    0.7s finished\n"
     ]
    },
    {
     "data": {
      "image/png": "[encoded data removed]",
      "text/plain": [
       "<matplotlib.figure.Figure at 0x11b6988d0>"
      ]
     },
     "metadata": {},
     "output_type": "display_data"
    }
   ],
   "source": [
    "from sklearn.learning_curve import learning_curve\n",
    "def plotLearningCurve(X_train, y_train, clf):\n",
    "    plt.figure()\n",
    "    plt.title (\"Learning curve (SVM)\")\n",
    "    plt.xlabel(\"training examples\")\n",
    "    plt.ylabel(\"scores\")\n",
    "    train_sizes , train_scores , test_scores = learning_curve(clf , X_train , y_train , cv=5, verbose=1)\n",
    "    train_scores_mean = np.mean(train_scores , axis=1)\n",
    "    train_scores_std = np.std(train_scores , axis=1)\n",
    "    test_scores_mean = np.mean(test_scores , axis=1)\n",
    "    test_scores_std = np.std(test_scores , axis=1)\n",
    "    plt.plot(train_sizes, train_scores_mean , 'o-', label=\"Training score\", color=\"r\")\n",
    "    plt.fill_between(train_sizes , train_scores_mean-train_scores_std, train_scores_mean + train_scores_std, alpha=0.2, color=\"r\")\n",
    "    plt.plot(train_sizes, test_scores_mean,'o-', label=\"Test score\",color =\"g\")\n",
    "    plt.fill_between(train_sizes, test_scores_mean - test_scores_std , test_scores_mean + test_scores_std , alpha=0.2, color=\"g\")\n",
    "    plt.legend(loc =\"best\")\n",
    "    plt.autoscale(tight=True)\n",
    "    plt.show()\n",
    "    \n",
    "plotLearningCurve(X_train, y_train, xgb)"
   ]
  },
  {
   "cell_type": "code",
   "execution_count": 248,
   "metadata": {},
   "outputs": [
    {
     "name": "stdout",
     "output_type": "stream",
     "text": [
      "114\n",
      "114\n",
      "[ 0.          0.01408451  1.        ] [ 0.          0.90697674  1.        ] [2 1 0]\n"
     ]
    },
    {
     "data": {
      "text/plain": [
       "<matplotlib.legend.Legend at 0x11c1cfe50>"
      ]
     },
     "execution_count": 248,
     "metadata": {},
     "output_type": "execute_result"
    },
    {
     "data": {
      "image/png": "[encoded data removed]",
      "text/plain": [
       "<matplotlib.figure.Figure at 0x114dc9890>"
      ]
     },
     "metadata": {},
     "output_type": "display_data"
    }
   ],
   "source": [
    "from sklearn.metrics import roc_curve, auc\n",
    "fpr, tpr, _ = metrics.roc_curve(y_test, y_pred_test)\n",
    "\n",
    "print len(y_test)\n",
    "print len(y_pred_test)\n",
    "print fpr, tpr, _\n",
    "\n",
    "roc_auc = auc(fpr, tpr)\n",
    "plt.plot(fpr, tpr, 'b', label='AUC = %0.2f'% roc_auc)\n",
    "plt.plot([0, 1], [0, 1], 'k--')\n",
    "plt.xlim([0.0, 1.0])\n",
    "plt.ylim([0.0, 1.0])\n",
    "plt.xlabel('False Positive Rate or (1 - Specifity)')\n",
    "plt.ylabel('True Positive Rate or (Sensitivity)')\n",
    "plt.title('Receiver Operating Characteristic')\n",
    "plt.legend(loc=\"lower right\")"
   ]
  },
  {
   "cell_type": "markdown",
   "metadata": {},
   "source": [
    "## Explanation"
   ]
  },
  {
   "cell_type": "markdown",
   "metadata": {},
   "source": [
    "### Technical"
   ]
  },
  {
   "cell_type": "markdown",
   "metadata": {},
   "source": [
    "### Non-technical"
   ]
  },
  {
   "cell_type": "markdown",
   "metadata": {},
   "source": [
    "# Part 2"
   ]
  },
  {
   "cell_type": "markdown",
   "metadata": {},
   "source": [
    "- Code:\n",
    "    - Feel free to comment on style, library usage, or other improvements.\n",
    "- Methodology\n",
    "    - Feel free to comment on the student's data setup, modeling methodology, and model evaluation.\n",
    "- Conceptual Understanding\n",
    "    - Finally, feel free to add any suggestions or takeaways on how the student could continue to improve their understanding of these concepts."
   ]
  },
  {
   "cell_type": "markdown",
   "metadata": {},
   "source": [
    "### Data "
   ]
  },
  {
   "cell_type": "code",
   "execution_count": 251,
   "metadata": {},
   "outputs": [
    {
     "data": {
      "text/html": [
       "<div>\n",
       "<table border=\"1\" class=\"dataframe\">\n",
       "  <thead>\n",
       "    <tr style=\"text-align: right;\">\n",
       "      <th></th>\n",
       "      <th>Id</th>\n",
       "      <th>Title</th>\n",
       "      <th>FullDescription</th>\n",
       "      <th>LocationRaw</th>\n",
       "      <th>LocationNormalized</th>\n",
       "      <th>ContractType</th>\n",
       "      <th>ContractTime</th>\n",
       "      <th>Company</th>\n",
       "      <th>Category</th>\n",
       "      <th>SalaryRaw</th>\n",
       "      <th>SalaryNormalized</th>\n",
       "      <th>SourceName</th>\n",
       "    </tr>\n",
       "  </thead>\n",
       "  <tbody>\n",
       "    <tr>\n",
       "      <th>9995</th>\n",
       "      <td>66190726</td>\n",
       "      <td>Senior Optometrist Ebbe Vale</td>\n",
       "      <td>This is an excellent opportunity for a dedicat...</td>\n",
       "      <td>Ebbe Vale</td>\n",
       "      <td>UK</td>\n",
       "      <td>part_time</td>\n",
       "      <td>NaN</td>\n",
       "      <td>NaN</td>\n",
       "      <td>Healthcare &amp; Nursing Jobs</td>\n",
       "      <td>52,000 per year</td>\n",
       "      <td>52000</td>\n",
       "      <td>careworx.co.uk</td>\n",
       "    </tr>\n",
       "    <tr>\n",
       "      <th>9996</th>\n",
       "      <td>66190728</td>\n",
       "      <td>Domiciliary Optometrist Kent</td>\n",
       "      <td>Domiciliary Optometrist  Kent The Company prid...</td>\n",
       "      <td>Kent</td>\n",
       "      <td>Kent</td>\n",
       "      <td>part_time</td>\n",
       "      <td>NaN</td>\n",
       "      <td>NaN</td>\n",
       "      <td>Healthcare &amp; Nursing Jobs</td>\n",
       "      <td>60,000 per year</td>\n",
       "      <td>60000</td>\n",
       "      <td>careworx.co.uk</td>\n",
       "    </tr>\n",
       "    <tr>\n",
       "      <th>9997</th>\n",
       "      <td>66190734</td>\n",
       "      <td>Optometrist Job Hastings</td>\n",
       "      <td>This is an excellent opportunity for a dedicat...</td>\n",
       "      <td>Hastings, East Sussex</td>\n",
       "      <td>Hastings</td>\n",
       "      <td>part_time</td>\n",
       "      <td>NaN</td>\n",
       "      <td>NaN</td>\n",
       "      <td>Healthcare &amp; Nursing Jobs</td>\n",
       "      <td>50,000 per year</td>\n",
       "      <td>50000</td>\n",
       "      <td>careworx.co.uk</td>\n",
       "    </tr>\n",
       "    <tr>\n",
       "      <th>9998</th>\n",
       "      <td>66190736</td>\n",
       "      <td>Optometrist Job Doncaster</td>\n",
       "      <td>This is an excellent opportunity for a dedicat...</td>\n",
       "      <td>Doncaster</td>\n",
       "      <td>Doncaster</td>\n",
       "      <td>part_time</td>\n",
       "      <td>NaN</td>\n",
       "      <td>NaN</td>\n",
       "      <td>Healthcare &amp; Nursing Jobs</td>\n",
       "      <td>35,000 to 60,000 per year</td>\n",
       "      <td>47500</td>\n",
       "      <td>careworx.co.uk</td>\n",
       "    </tr>\n",
       "    <tr>\n",
       "      <th>9999</th>\n",
       "      <td>66190737</td>\n",
       "      <td>Experienced RHAD Job Lincoln</td>\n",
       "      <td>We provide a community hearing service to thos...</td>\n",
       "      <td>Lincoln, Lincolnshire</td>\n",
       "      <td>Lincoln</td>\n",
       "      <td>full_time</td>\n",
       "      <td>NaN</td>\n",
       "      <td>NaN</td>\n",
       "      <td>Healthcare &amp; Nursing Jobs</td>\n",
       "      <td>18,000 to 40,000 per year</td>\n",
       "      <td>29000</td>\n",
       "      <td>careworx.co.uk</td>\n",
       "    </tr>\n",
       "  </tbody>\n",
       "</table>\n",
       "</div>"
      ],
      "text/plain": [
       "            Id                         Title  \\\n",
       "9995  66190726  Senior Optometrist Ebbe Vale   \n",
       "9996  66190728  Domiciliary Optometrist Kent   \n",
       "9997  66190734      Optometrist Job Hastings   \n",
       "9998  66190736     Optometrist Job Doncaster   \n",
       "9999  66190737  Experienced RHAD Job Lincoln   \n",
       "\n",
       "                                        FullDescription  \\\n",
       "9995  This is an excellent opportunity for a dedicat...   \n",
       "9996  Domiciliary Optometrist  Kent The Company prid...   \n",
       "9997  This is an excellent opportunity for a dedicat...   \n",
       "9998  This is an excellent opportunity for a dedicat...   \n",
       "9999  We provide a community hearing service to thos...   \n",
       "\n",
       "                LocationRaw LocationNormalized ContractType ContractTime  \\\n",
       "9995              Ebbe Vale                 UK    part_time          NaN   \n",
       "9996                   Kent               Kent    part_time          NaN   \n",
       "9997  Hastings, East Sussex           Hastings    part_time          NaN   \n",
       "9998              Doncaster          Doncaster    part_time          NaN   \n",
       "9999  Lincoln, Lincolnshire            Lincoln    full_time          NaN   \n",
       "\n",
       "     Company                   Category                  SalaryRaw  \\\n",
       "9995     NaN  Healthcare & Nursing Jobs            52,000 per year   \n",
       "9996     NaN  Healthcare & Nursing Jobs            60,000 per year   \n",
       "9997     NaN  Healthcare & Nursing Jobs            50,000 per year   \n",
       "9998     NaN  Healthcare & Nursing Jobs  35,000 to 60,000 per year   \n",
       "9999     NaN  Healthcare & Nursing Jobs  18,000 to 40,000 per year   \n",
       "\n",
       "      SalaryNormalized      SourceName  \n",
       "9995             52000  careworx.co.uk  \n",
       "9996             60000  careworx.co.uk  \n",
       "9997             50000  careworx.co.uk  \n",
       "9998             47500  careworx.co.uk  \n",
       "9999             29000  careworx.co.uk  "
      ]
     },
     "execution_count": 251,
     "metadata": {},
     "output_type": "execute_result"
    }
   ],
   "source": [
    "import pandas as pd\n",
    "df = pd.read_csv('data/part-2-data.train.csv')\n",
    "df.tail()"
   ]
  },
  {
   "cell_type": "markdown",
   "metadata": {},
   "source": [
    "### Student 1"
   ]
  },
  {
   "cell_type": "code",
   "execution_count": 256,
   "metadata": {},
   "outputs": [
    {
     "name": "stdout",
     "output_type": "stream",
     "text": [
      "-11914.7348819\n"
     ]
    },
    {
     "name": "stderr",
     "output_type": "stream",
     "text": [
      "/usr/local/lib/python2.7/site-packages/scipy/linalg/basic.py:1018: RuntimeWarning: internal gelsd driver lwork query error, required iwork dimension not returned. This is likely the result of LAPACK bug 0038, fixed in LAPACK 3.2.2 (released July 21, 2010). Falling back to 'gelss' driver.\n",
      "  warnings.warn(mesg, RuntimeWarning)\n",
      "/usr/local/lib/python2.7/site-packages/sklearn/metrics/scorer.py:90: DeprecationWarning: Scoring method mean_absolute_error was renamed to neg_mean_absolute_error in version 0.18 and will be removed in 0.20.\n",
      "  sample_weight=sample_weight)\n",
      "/usr/local/lib/python2.7/site-packages/sklearn/metrics/scorer.py:90: DeprecationWarning: Scoring method mean_absolute_error was renamed to neg_mean_absolute_error in version 0.18 and will be removed in 0.20.\n",
      "  sample_weight=sample_weight)\n",
      "/usr/local/lib/python2.7/site-packages/sklearn/metrics/scorer.py:90: DeprecationWarning: Scoring method mean_absolute_error was renamed to neg_mean_absolute_error in version 0.18 and will be removed in 0.20.\n",
      "  sample_weight=sample_weight)\n"
     ]
    }
   ],
   "source": [
    "#!/usr/bin/env python\n",
    "\n",
    "import pandas as pd\n",
    "import numpy as np\n",
    "\n",
    "# from sklearn import LinearRegression => need to import linear_model first\n",
    "from sklearn.linear_model import LinearRegression\n",
    "from sklearn.cross_validation import cross_val_score\n",
    "\n",
    "# Load data\n",
    "d = pd.read_csv('data/part-2-data.train.csv')\n",
    "\n",
    "\n",
    "# Setup data for prediction\n",
    "#x1 = data.SalaryNormalized # data is not defined. use d\n",
    "x1 = d.SalaryNormalized\n",
    "#x2 = pd.get_dummies(data.ContractType)\n",
    "x2 = pd.get_dummies(d.ContractType)\n",
    "\n",
    "# Setup model\n",
    "model = LinearRegression()\n",
    "\n",
    "# Evaluate model\n",
    "from sklearn.cross_validation import cross_val_score\n",
    "from sklearn.cross_validation import train_test_split\n",
    "# scores = cross_val_score(model, x2, x1, cv=1, scoring='mean_absolute_error')\n",
    "# at least 2 folds for cross validation otherwise it doesn't really make sense\n",
    "scores = cross_val_score(model, x2, x1, cv=3, scoring='mean_absolute_error')\n",
    "print(scores.mean())\n"
   ]
  },
  {
   "cell_type": "markdown",
   "metadata": {},
   "source": [
    "### Student 2"
   ]
  },
  {
   "cell_type": "code",
   "execution_count": null,
   "metadata": {
    "collapsed": true
   },
   "outputs": [],
   "source": [
    "#!/usr/bin/env python\n",
    "\n",
    "import pandas as pd\n",
    "import numpy as np\n",
    "from sklearn.linear_model import LinearRegression\n",
    "from sklearn.cross_validation import cross_val_score\n",
    "\n",
    "# Load data\n",
    "data = pd.read_csv('../data/train.csv')\n",
    "\n",
    "\n",
    "# Setup data for prediction\n",
    "y = data.SalaryNormalized\n",
    "X = pd.get_dummies(data.ContractType)\n",
    "\n",
    "# Setup model\n",
    "model = LinearRegression()\n",
    "\n",
    "# Evaluate model\n",
    "scores = cross_val_score(model, X, y, cv=5, scoring='mean_absolute_error')\n",
    "print(scores.mean())"
   ]
  },
  {
   "cell_type": "code",
   "execution_count": null,
   "metadata": {
    "collapsed": true
   },
   "outputs": [],
   "source": []
  },
  {
   "cell_type": "code",
   "execution_count": null,
   "metadata": {
    "collapsed": true
   },
   "outputs": [],
   "source": []
  }
 ],
 "metadata": {
  "kernelspec": {
   "display_name": "Python 2",
   "language": "python",
   "name": "python2"
  },
  "language_info": {
   "codemirror_mode": {
    "name": "ipython",
    "version": 2
   },
   "file_extension": ".py",
   "mimetype": "text/x-python",
   "name": "python",
   "nbconvert_exporter": "python",
   "pygments_lexer": "ipython2",
   "version": "2.7.13"
  }
 },
 "nbformat": 4,
 "nbformat_minor": 2
}
